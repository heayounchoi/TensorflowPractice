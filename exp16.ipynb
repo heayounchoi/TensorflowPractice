{
 "cells": [
  {
   "cell_type": "code",
   "execution_count": null,
   "metadata": {},
   "outputs": [],
   "source": [
    "# training \"hihello\" using RNN"
   ]
  },
  {
   "cell_type": "code",
   "execution_count": 40,
   "metadata": {},
   "outputs": [
    {
     "name": "stderr",
     "output_type": "stream",
     "text": [
      "WARNING:absl:At this time, the v2.11+ optimizer `tf.keras.optimizers.Adam` runs slowly on M1/M2 Macs, please use the legacy Keras optimizer instead, located at `tf.keras.optimizers.legacy.Adam`.\n"
     ]
    },
    {
     "name": "stdout",
     "output_type": "stream",
     "text": [
      "0 loss: 1.5983, prediction: [[2 1 1 0 0 0]], true Y: [[1 0 2 3 3 4]]\n",
      "\tPrediction str: eiihhh\n",
      "100 loss: 0.8638, prediction: [[1 2 2 3 3 4]], true Y: [[1 0 2 3 3 4]]\n",
      "\tPrediction str: ieello\n",
      "200 loss: 0.7219, prediction: [[1 2 2 3 3 4]], true Y: [[1 0 2 3 3 4]]\n",
      "\tPrediction str: ieello\n",
      "300 loss: 0.6116, prediction: [[1 0 2 3 3 4]], true Y: [[1 0 2 3 3 4]]\n",
      "\tPrediction str: ihello\n",
      "400 loss: 0.5996, prediction: [[1 0 2 3 3 4]], true Y: [[1 0 2 3 3 4]]\n",
      "\tPrediction str: ihello\n",
      "500 loss: 0.5932, prediction: [[1 0 2 3 3 4]], true Y: [[1 0 2 3 3 4]]\n",
      "\tPrediction str: ihello\n",
      "600 loss: 0.5890, prediction: [[1 0 2 3 3 4]], true Y: [[1 0 2 3 3 4]]\n",
      "\tPrediction str: ihello\n",
      "700 loss: 0.5860, prediction: [[1 0 2 3 3 4]], true Y: [[1 0 2 3 3 4]]\n",
      "\tPrediction str: ihello\n",
      "800 loss: 0.5837, prediction: [[1 0 2 3 3 4]], true Y: [[1 0 2 3 3 4]]\n",
      "\tPrediction str: ihello\n",
      "900 loss: 0.5819, prediction: [[1 0 2 3 3 4]], true Y: [[1 0 2 3 3 4]]\n",
      "\tPrediction str: ihello\n",
      "1000 loss: 0.5804, prediction: [[1 0 2 3 3 4]], true Y: [[1 0 2 3 3 4]]\n",
      "\tPrediction str: ihello\n",
      "1100 loss: 0.5792, prediction: [[1 0 2 3 3 4]], true Y: [[1 0 2 3 3 4]]\n",
      "\tPrediction str: ihello\n",
      "1200 loss: 0.5781, prediction: [[1 0 2 3 3 4]], true Y: [[1 0 2 3 3 4]]\n",
      "\tPrediction str: ihello\n",
      "1300 loss: 0.5772, prediction: [[1 0 2 3 3 4]], true Y: [[1 0 2 3 3 4]]\n",
      "\tPrediction str: ihello\n",
      "1400 loss: 0.5763, prediction: [[1 0 2 3 3 4]], true Y: [[1 0 2 3 3 4]]\n",
      "\tPrediction str: ihello\n",
      "1500 loss: 0.5756, prediction: [[1 0 2 3 3 4]], true Y: [[1 0 2 3 3 4]]\n",
      "\tPrediction str: ihello\n",
      "1600 loss: 0.5750, prediction: [[1 0 2 3 3 4]], true Y: [[1 0 2 3 3 4]]\n",
      "\tPrediction str: ihello\n",
      "1700 loss: 0.5744, prediction: [[1 0 2 3 3 4]], true Y: [[1 0 2 3 3 4]]\n",
      "\tPrediction str: ihello\n",
      "1800 loss: 0.5738, prediction: [[1 0 2 3 3 4]], true Y: [[1 0 2 3 3 4]]\n",
      "\tPrediction str: ihello\n",
      "1900 loss: 0.5733, prediction: [[1 0 2 3 3 4]], true Y: [[1 0 2 3 3 4]]\n",
      "\tPrediction str: ihello\n"
     ]
    }
   ],
   "source": [
    "import tensorflow as tf\n",
    "import numpy as np\n",
    "\n",
    "hidden_size = 5\n",
    "input_dim = 5\n",
    "batch_size = 1\n",
    "sequence_length = 6\n",
    "\n",
    "idx2char = [\"h\", \"i\", \"e\", \"l\", \"o\"]\n",
    "x_one_hot = np.array([[[1, 0, 0, 0, 0],\n",
    "                       [0, 1, 0, 0, 0],\n",
    "                       [1, 0, 0, 0, 0],\n",
    "                       [0, 0, 1, 0, 0],\n",
    "                       [0, 0, 0, 1, 0],\n",
    "                       [0, 0, 0, 1, 0]]], dtype=np.float32) # hihell\n",
    "y_data = np.array([[1, 0, 2, 3, 3, 4]], dtype=np.int32) # ihello\n",
    "\n",
    "cell = tf.keras.layers.LSTMCell(hidden_size)\n",
    "lstm_layer = tf.keras.layers.RNN(cell, return_sequences=True)\n",
    "loss_function = tf.keras.losses.SparseCategoricalCrossentropy(from_logits=True) # 제공된 입력값이 확률이 아닌 로짓임을 의미\n",
    "                                                                                # 내부적으로 소프트맥스 함수를 적용하여 확률 분포 계산\n",
    "optimizer = tf.keras.optimizers.Adam(learning_rate=0.01)\n",
    "\n",
    "for i in range(2000):\n",
    "    with tf.GradientTape() as tape:\n",
    "        outputs = lstm_layer(x_one_hot, training=True)\n",
    "        loss = loss_function(y_data, outputs)\n",
    "\n",
    "    gradients = tape.gradient(loss, lstm_layer.trainable_variables)\n",
    "    optimizer.apply_gradients(zip(gradients, lstm_layer.trainable_variables))\n",
    "\n",
    "    if i % 100 == 0:\n",
    "        prediction = tf.argmax(outputs, axis=2)\n",
    "        print(f\"{i} loss: {loss:.4f}, prediction: {prediction.numpy()}, true Y: {y_data}\")\n",
    "        prediction_str = [idx2char[c] for c in np.squeeze(prediction)]\n",
    "        print(\"\\tPrediction str:\", \"\".join(prediction_str))"
   ]
  }
 ],
 "metadata": {
  "kernelspec": {
   "display_name": "base",
   "language": "python",
   "name": "python3"
  },
  "language_info": {
   "codemirror_mode": {
    "name": "ipython",
    "version": 3
   },
   "file_extension": ".py",
   "mimetype": "text/x-python",
   "name": "python",
   "nbconvert_exporter": "python",
   "pygments_lexer": "ipython3",
   "version": "3.11.4"
  },
  "orig_nbformat": 4
 },
 "nbformat": 4,
 "nbformat_minor": 2
}
