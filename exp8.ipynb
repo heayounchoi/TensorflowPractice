{
 "cells": [
  {
   "cell_type": "code",
   "execution_count": null,
   "metadata": {},
   "outputs": [],
   "source": [
    "# input normalization"
   ]
  },
  {
   "cell_type": "code",
   "execution_count": null,
   "metadata": {},
   "outputs": [
    {
     "name": "stdout",
     "output_type": "stream",
     "text": [
      "[[0.         0.16666667 0.         0.        ]\n",
      " [0.33333333 0.         0.33333333 0.16666667]\n",
      " [0.66666667 0.         0.33333333 0.5       ]\n",
      " [1.         0.         0.66666667 0.66666667]\n",
      " [0.         1.         0.66666667 0.66666667]\n",
      " [0.         0.16666667 0.66666667 0.83333333]\n",
      " [0.         0.83333333 0.83333333 0.83333333]\n",
      " [0.         1.         1.         1.        ]]\n"
     ]
    }
   ],
   "source": [
    "from sklearn.preprocessing import MinMaxScaler\n",
    "\n",
    "x_data = [[1., 2., 1., 1.],\n",
    "          [2., 1., 3., 2.],\n",
    "          [3., 1., 3., 4.],\n",
    "          [4., 1., 5., 5.],\n",
    "          [1., 7., 5., 5.],\n",
    "          [1., 2., 5., 6.],\n",
    "          [1., 6., 6., 6.],\n",
    "          [1., 7., 7., 7.]]\n",
    "\n",
    "scaler = MinMaxScaler()\n",
    "\n",
    "x_scaled = scaler.fit_transform(x_data)\n",
    "\n",
    "print(x_scaled)"
   ]
  }
 ],
 "metadata": {
  "language_info": {
   "name": "python"
  },
  "orig_nbformat": 4
 },
 "nbformat": 4,
 "nbformat_minor": 2
}
