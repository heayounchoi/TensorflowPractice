{
 "cells": [
  {
   "cell_type": "code",
   "execution_count": null,
   "metadata": {},
   "outputs": [],
   "source": [
    "# softmax classification"
   ]
  },
  {
   "cell_type": "code",
   "execution_count": null,
   "metadata": {},
   "outputs": [],
   "source": [
    "x_data = [[1., 2., 1., 1.],\n",
    "          [2., 1., 3., 2.],\n",
    "          [3., 1., 3., 4.],\n",
    "          [4., 1., 5., 5.],\n",
    "          [1., 7., 5., 5.],\n",
    "          [1., 2., 5., 6.],\n",
    "          [1., 6., 6., 6.],\n",
    "          [1., 7., 7., 7.]]\n",
    "y_data = [[0, 0, 1], [0, 0, 1], [0, 0, 1], [0, 1, 0], [0, 1, 0], [0, 1, 0], [1, 0, 0], [1, 0, 0]]\n",
    "\n",
    "nb_classes = 3\n",
    "W = tf.Variable(tf.random.normal([4, nb_classes]), name=\"weight\")\n",
    "b = tf.Variable(tf.random.normal([nb_classes]), name=\"bias\")\n",
    "\n",
    "optimizer = tf.optimizers.SGD(learning_rate=0.1)\n",
    "\n",
    "def compute_cost(X, Y=[0, 0, 0]):\n",
    "    hypothesis = tf.nn.softmax(tf.matmul(X, W) + b)\n",
    "    Y = tf.convert_to_tensor(Y, dtype=tf.float32)\n",
    "    cost = tf.reduce_mean(-tf.reduce_sum(Y * tf.math.log(hypothesis), axis=1))\n",
    "    return hypothesis, cost\n",
    "\n",
    "def train_step(X, Y):\n",
    "    with tf.GradientTape() as tape:\n",
    "        _, cost = compute_cost(X, Y)\n",
    "    gradients = tape.gradient(cost, [W, b])\n",
    "    optimizer.apply_gradients(zip(gradients, [W, b]))\n",
    "    return cost\n",
    "\n",
    "for step in range(10001):\n",
    "    cost_val = train_step(x_data, y_data)\n",
    "    if step % 200 == 0:\n",
    "        print(step, \"Cost: \", cost_val.numpy())\n"
   ]
  },
  {
   "cell_type": "code",
   "execution_count": null,
   "metadata": {},
   "outputs": [
    {
     "name": "stdout",
     "output_type": "stream",
     "text": [
      "[1]\n",
      "[1 0 2]\n"
     ]
    }
   ],
   "source": [
    "predictions = compute_cost(X=[[1., 11., 7., 9.]])[0].numpy()\n",
    "print(tf.argmax(predictions, axis=1).numpy())\n",
    "\n",
    "all = compute_cost(X=[[1., 11., 7., 9.],\n",
    "                      [1., 3., 4., 3.],\n",
    "                      [1., 1., 0., 1.]])[0].numpy()\n",
    "print(tf.argmax(all, axis=1).numpy())"
   ]
  },
  {
   "cell_type": "code",
   "execution_count": null,
   "metadata": {},
   "outputs": [
    {
     "name": "stdout",
     "output_type": "stream",
     "text": [
      "tf.Tensor(0.03948453, shape=(), dtype=float32)\n",
      "tf.Tensor(\n",
      "[[[1. 0. 0. 0. 0. 0. 0.]]\n",
      "\n",
      " [[0. 1. 0. 0. 0. 0. 0.]]\n",
      "\n",
      " [[0. 0. 1. 0. 0. 0. 0.]]\n",
      "\n",
      " [[0. 0. 0. 1. 0. 0. 0.]]\n",
      "\n",
      " [[0. 0. 0. 0. 1. 0. 0.]]\n",
      "\n",
      " [[0. 0. 0. 0. 0. 1. 0.]]\n",
      "\n",
      " [[0. 0. 0. 0. 0. 0. 1.]]], shape=(7, 1, 7), dtype=float32)\n",
      "tf.Tensor(\n",
      "[[1. 0. 0. 0. 0. 0. 0.]\n",
      " [0. 1. 0. 0. 0. 0. 0.]\n",
      " [0. 0. 1. 0. 0. 0. 0.]\n",
      " [0. 0. 0. 1. 0. 0. 0.]\n",
      " [0. 0. 0. 0. 1. 0. 0.]\n",
      " [0. 0. 0. 0. 0. 1. 0.]\n",
      " [0. 0. 0. 0. 0. 0. 1.]], shape=(7, 7), dtype=float32)\n"
     ]
    }
   ],
   "source": [
    "# 메소드 추천\n",
    "logits = tf.matmul(x_data, W) + b\n",
    "cost_i = tf.nn.softmax_cross_entropy_with_logits(logits=logits, labels=y_data)\n",
    "cost = tf.reduce_mean(cost_i)\n",
    "print(cost)\n",
    "\n",
    "Y = [[0], [1], [2], [3], [4], [5], [6]]\n",
    "nb_classes = 7\n",
    "Y_one_hot = tf.one_hot(Y, nb_classes)\n",
    "print(Y_one_hot)\n",
    "Y_one_hot = tf.reshape(Y_one_hot, [-1, nb_classes])\n",
    "print(Y_one_hot)"
   ]
  },
  {
   "cell_type": "code",
   "execution_count": null,
   "metadata": {},
   "outputs": [
    {
     "name": "stdout",
     "output_type": "stream",
     "text": [
      "Step:     0\tLoss: 10.043\tAcc: 37.50%\n",
      "Step:   100\tLoss: 0.661\tAcc: 75.00%\n",
      "Step:   200\tLoss: 0.578\tAcc: 75.00%\n",
      "Step:   300\tLoss: 0.520\tAcc: 75.00%\n",
      "Step:   400\tLoss: 0.469\tAcc: 87.50%\n",
      "Step:   500\tLoss: 0.421\tAcc: 87.50%\n",
      "Step:   600\tLoss: 0.375\tAcc: 87.50%\n",
      "Step:   700\tLoss: 0.329\tAcc: 87.50%\n",
      "Step:   800\tLoss: 0.285\tAcc: 87.50%\n",
      "Step:   900\tLoss: 0.250\tAcc: 100.00%\n",
      "Step:  1000\tLoss: 0.236\tAcc: 100.00%\n",
      "Step:  1100\tLoss: 0.224\tAcc: 100.00%\n",
      "Step:  1200\tLoss: 0.214\tAcc: 100.00%\n",
      "Step:  1300\tLoss: 0.204\tAcc: 100.00%\n",
      "Step:  1400\tLoss: 0.196\tAcc: 100.00%\n",
      "Step:  1500\tLoss: 0.188\tAcc: 100.00%\n",
      "Step:  1600\tLoss: 0.180\tAcc: 100.00%\n",
      "Step:  1700\tLoss: 0.173\tAcc: 100.00%\n",
      "Step:  1800\tLoss: 0.167\tAcc: 100.00%\n",
      "Step:  1900\tLoss: 0.161\tAcc: 100.00%\n"
     ]
    }
   ],
   "source": [
    "x_data = [[1., 2., 1., 1.],\n",
    "          [2., 1., 3., 2.],\n",
    "          [3., 1., 3., 4.],\n",
    "          [4., 1., 5., 5.],\n",
    "          [1., 7., 5., 5.],\n",
    "          [1., 2., 5., 6.],\n",
    "          [1., 6., 6., 6.],\n",
    "          [1., 7., 7., 7.]]\n",
    "y_data = [[2], [2], [2], [1], [1], [1], [0], [0]]\n",
    "\n",
    "nb_classes = 3\n",
    "\n",
    "Y_one_hot = tf.one_hot(y_data, nb_classes)\n",
    "Y_one_hot = tf.reshape(Y_one_hot, [-1, nb_classes])\n",
    "\n",
    "W = tf.Variable(tf.random.normal([4, nb_classes]), name=\"weight\")\n",
    "b = tf.Variable(tf.random.normal([nb_classes]), name=\"bias\")\n",
    "\n",
    "optimizer = tf.optimizers.SGD(learning_rate=0.1)\n",
    "\n",
    "def compute_cost(X, Y):\n",
    "    logits = tf.matmul(X, W) + b\n",
    "    hypothesis = tf.nn.softmax(logits)\n",
    "    cost_i = tf.nn.softmax_cross_entropy_with_logits(logits=logits, labels=Y)\n",
    "    cost = tf.reduce_mean(cost_i)\n",
    "    return hypothesis, cost\n",
    "\n",
    "def train_step(X, Y):\n",
    "    with tf.GradientTape() as tape:\n",
    "        hypothesis, cost = compute_cost(X, Y)\n",
    "    gradients  = tape.gradient(cost, [W, b])\n",
    "    optimizer.apply_gradients(zip(gradients, [W, b]))\n",
    "    return hypothesis, cost\n",
    "\n",
    "for step in range(2000):\n",
    "    hypothesis, cost_val = train_step(x_data, Y_one_hot)\n",
    "    prediction = tf.argmax(hypothesis, 1)\n",
    "    correct_prediction = tf.equal(prediction, tf.argmax(Y_one_hot, 1))\n",
    "    accuracy = tf.reduce_mean(tf.cast(correct_prediction, tf.float32))\n",
    "    if step % 100 == 0:\n",
    "        print(\"Step: {:5}\\tLoss: {:.3f}\\tAcc: {:.2%}\".format(step, cost_val.numpy(), accuracy))"
   ]
  },
  {
   "cell_type": "code",
   "execution_count": null,
   "metadata": {},
   "outputs": [
    {
     "name": "stdout",
     "output_type": "stream",
     "text": [
      "[True] Prediction: 2 True Y: 2\n",
      "[True] Prediction: 2 True Y: 2\n",
      "[True] Prediction: 2 True Y: 2\n",
      "[True] Prediction: 1 True Y: 1\n",
      "[True] Prediction: 1 True Y: 1\n",
      "[True] Prediction: 1 True Y: 1\n",
      "[True] Prediction: 0 True Y: 0\n",
      "[True] Prediction: 0 True Y: 0\n"
     ]
    }
   ],
   "source": [
    "import numpy as np\n",
    "\n",
    "hypothesis, _ = compute_cost(x_data, Y_one_hot)\n",
    "prediction = tf.argmax(hypothesis, 1)\n",
    "\n",
    "for p, y in zip(prediction, np.array(y_data).flatten()):\n",
    "    print(\"[{}] Prediction: {} True Y: {}\".format(p == int(y), p, int(y)))"
   ]
  }
 ],
 "metadata": {
  "language_info": {
   "name": "python"
  },
  "orig_nbformat": 4
 },
 "nbformat": 4,
 "nbformat_minor": 2
}
