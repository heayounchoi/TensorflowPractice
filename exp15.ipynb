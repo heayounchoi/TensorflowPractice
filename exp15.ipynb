{
 "cells": [
  {
   "cell_type": "code",
   "execution_count": null,
   "metadata": {},
   "outputs": [],
   "source": [
    "# RNN basics"
   ]
  },
  {
   "cell_type": "code",
   "execution_count": 4,
   "metadata": {},
   "outputs": [
    {
     "name": "stdout",
     "output_type": "stream",
     "text": [
      "tf.Tensor([[-0.11690753  0.07944884]], shape=(1, 2), dtype=float32)\n"
     ]
    }
   ],
   "source": [
    "import tensorflow as tf\n",
    "import numpy as np\n",
    "\n",
    "hidden_size = 2\n",
    "cell = tf.keras.layers.LSTMCell(hidden_size)\n",
    "\n",
    "x_data = np.array([[[1,0,0,0]]], dtype=np.float32)\n",
    "lstm_layer = tf.keras.layers.RNN(cell)\n",
    "outputs = lstm_layer(x_data)\n",
    "print(outputs)"
   ]
  },
  {
   "cell_type": "code",
   "execution_count": 11,
   "metadata": {},
   "outputs": [
    {
     "name": "stdout",
     "output_type": "stream",
     "text": [
      "(1, 5, 4)\n",
      "[[[1. 0. 0. 0.]\n",
      "  [0. 1. 0. 0.]\n",
      "  [0. 0. 1. 0.]\n",
      "  [0. 0. 1. 0.]\n",
      "  [0. 0. 0. 1.]]]\n",
      "tf.Tensor(\n",
      "[[[-0.02432331 -0.07986384]\n",
      "  [ 0.01014244 -0.00163616]\n",
      "  [-0.0807649  -0.04257509]\n",
      "  [-0.13832843 -0.07828099]\n",
      "  [-0.16634329  0.02335155]]], shape=(1, 5, 2), dtype=float32)\n"
     ]
    }
   ],
   "source": [
    "h = [1,0,0,0]\n",
    "e = [0,1,0,0]\n",
    "l = [0,0,1,0]\n",
    "o = [0,0,0,1]\n",
    "\n",
    "hidden_size = 2\n",
    "cell = tf.keras.layers.LSTMCell(hidden_size)\n",
    "x_data = np.array([[h,e,l,l,o]], dtype=np.float32)\n",
    "print(x_data.shape)\n",
    "print(x_data)\n",
    "lstm_layer = tf.keras.layers.RNN(cell, return_sequences=True)\n",
    "outputs = lstm_layer(x_data)\n",
    "print(outputs)"
   ]
  },
  {
   "cell_type": "code",
   "execution_count": 12,
   "metadata": {},
   "outputs": [
    {
     "name": "stdout",
     "output_type": "stream",
     "text": [
      "(3, 5, 4)\n",
      "[[[1. 0. 0. 0.]\n",
      "  [0. 1. 0. 0.]\n",
      "  [0. 0. 1. 0.]\n",
      "  [0. 0. 1. 0.]\n",
      "  [0. 0. 0. 1.]]\n",
      "\n",
      " [[0. 1. 0. 0.]\n",
      "  [0. 0. 0. 1.]\n",
      "  [0. 0. 1. 0.]\n",
      "  [0. 0. 1. 0.]\n",
      "  [0. 0. 1. 0.]]\n",
      "\n",
      " [[0. 0. 1. 0.]\n",
      "  [0. 0. 1. 0.]\n",
      "  [0. 1. 0. 0.]\n",
      "  [0. 1. 0. 0.]\n",
      "  [0. 0. 1. 0.]]]\n",
      "tf.Tensor(\n",
      "[[[-0.04915144  0.1541966 ]\n",
      "  [-0.14793703  0.08674915]\n",
      "  [-0.06229985  0.0745756 ]\n",
      "  [ 0.03633004  0.07324812]\n",
      "  [-0.07178465  0.13286923]]\n",
      "\n",
      " [[-0.10874154 -0.05740786]\n",
      "  [-0.18627107  0.06609683]\n",
      "  [-0.06943312  0.0781995 ]\n",
      "  [ 0.03039405  0.07585375]\n",
      "  [ 0.11451358  0.07247307]]\n",
      "\n",
      " [[ 0.08627946  0.02613318]\n",
      "  [ 0.15708333  0.04018814]\n",
      "  [-0.01850189 -0.02431619]\n",
      "  [-0.12052272 -0.07431175]\n",
      "  [-0.0365148  -0.00885959]]], shape=(3, 5, 2), dtype=float32)\n"
     ]
    }
   ],
   "source": [
    "hidden_size = 2\n",
    "cell = tf.keras.layers.LSTMCell(hidden_size)\n",
    "x_data = np.array([[h,e,l,l,o],\n",
    "                   [e,o,l,l,l],\n",
    "                   [l,l,e,e,l]], dtype=np.float32)\n",
    "print(x_data.shape)\n",
    "print(x_data)\n",
    "lstm_layer = tf.keras.layers.RNN(cell, return_sequences=True)\n",
    "outputs = lstm_layer(x_data)\n",
    "print(outputs)"
   ]
  }
 ],
 "metadata": {
  "kernelspec": {
   "display_name": "base",
   "language": "python",
   "name": "python3"
  },
  "language_info": {
   "codemirror_mode": {
    "name": "ipython",
    "version": 3
   },
   "file_extension": ".py",
   "mimetype": "text/x-python",
   "name": "python",
   "nbconvert_exporter": "python",
   "pygments_lexer": "ipython3",
   "version": "3.11.4"
  },
  "orig_nbformat": 4
 },
 "nbformat": 4,
 "nbformat_minor": 2
}
