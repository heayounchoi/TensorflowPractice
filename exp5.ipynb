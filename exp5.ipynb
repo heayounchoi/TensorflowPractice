{
 "cells": [
  {
   "cell_type": "code",
   "execution_count": null,
   "metadata": {},
   "outputs": [],
   "source": [
    "# data manipulation"
   ]
  },
  {
   "cell_type": "code",
   "execution_count": null,
   "metadata": {},
   "outputs": [],
   "source": [
    "import numpy as np\n",
    "\n",
    "file_path = 'sample.csv'\n",
    "\n",
    "data = np.loadtxt(file_path, delimiter=',', skiprows=1, dtype=str)\n",
    "\n",
    "print(data)"
   ]
  },
  {
   "cell_type": "code",
   "execution_count": null,
   "metadata": {},
   "outputs": [],
   "source": [
    "import numpy as np\n",
    "b = np.array([[73., 80., 75.],\n",
    "            [93., 88., 93.],\n",
    "            [89., 91., 90.],\n",
    "            [96., 98., 100.],\n",
    "            [73., 66., 70.]])\n",
    "print(b[:, 1])\n",
    "print(b[-1, :])\n",
    "print(b[-1, ...])\n",
    "print(b[0:2, :])"
   ]
  },
  {
   "cell_type": "code",
   "execution_count": null,
   "metadata": {},
   "outputs": [],
   "source": [
    "import tensorflow as tf\n",
    "\n",
    "file_path = 'sample.csv'\n",
    "\n",
    "def load_dataset(file_path, batch_size):\n",
    "    dataset = tf.data.experimental.make_csv_dataset(\n",
    "        file_path,\n",
    "        batch_size=batch_size,\n",
    "        label_name='사업자등록번호',\n",
    "        na_value=\"?\",\n",
    "        num_epochs=1,\n",
    "        ignore_errors=True\n",
    "    )\n",
    "    return dataset\n",
    "\n",
    "batch_size = 10\n",
    "dataset = load_dataset(file_path, batch_size)\n",
    "\n",
    "dataset = dataset.shuffle(buffer_size=10000).repeat()\n",
    "\n",
    "for features, label in dataset.take(1):\n",
    "    print(features, label)"
   ]
  }
 ],
 "metadata": {
  "kernelspec": {
   "display_name": "base",
   "language": "python",
   "name": "python3"
  },
  "language_info": {
   "codemirror_mode": {
    "name": "ipython",
    "version": 3
   },
   "file_extension": ".py",
   "mimetype": "text/x-python",
   "name": "python",
   "nbconvert_exporter": "python",
   "pygments_lexer": "ipython3",
   "version": "3.11.4"
  },
  "orig_nbformat": 4
 },
 "nbformat": 4,
 "nbformat_minor": 2
}
