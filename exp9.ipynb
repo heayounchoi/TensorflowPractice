{
 "cells": [
  {
   "cell_type": "code",
   "execution_count": null,
   "metadata": {},
   "outputs": [],
   "source": [
    "# MNIST softmax classification"
   ]
  },
  {
   "cell_type": "code",
   "execution_count": 15,
   "metadata": {},
   "outputs": [
    {
     "name": "stderr",
     "output_type": "stream",
     "text": [
      "WARNING:absl:At this time, the v2.11+ optimizer `tf.keras.optimizers.SGD` runs slowly on M1/M2 Macs, please use the legacy Keras optimizer instead, located at `tf.keras.optimizers.legacy.SGD`.\n"
     ]
    },
    {
     "name": "stdout",
     "output_type": "stream",
     "text": [
      "Epoch: 0001 cost 2.563195944\n",
      "Epoch: 0002 cost 1.008847594\n",
      "Epoch: 0003 cost 0.820961118\n",
      "Epoch: 0004 cost 0.725580573\n",
      "Epoch: 0005 cost 0.664448917\n",
      "Epoch: 0006 cost 0.620609462\n",
      "Epoch: 0007 cost 0.587041557\n",
      "Epoch: 0008 cost 0.560199976\n",
      "Epoch: 0009 cost 0.538059056\n",
      "Epoch: 0010 cost 0.519360840\n",
      "Epoch: 0011 cost 0.503280401\n",
      "Epoch: 0012 cost 0.489249527\n",
      "Epoch: 0013 cost 0.476862192\n",
      "Epoch: 0014 cost 0.465818405\n",
      "Epoch: 0015 cost 0.455888867\n",
      "Accuracy:  tf.Tensor(0.8892, shape=(), dtype=float32)\n"
     ]
    }
   ],
   "source": [
    "import tensorflow as tf\n",
    "from tensorflow.keras.datasets import mnist\n",
    "\n",
    "(x_train, y_train), (x_test, y_test) = mnist.load_data()\n",
    "nb_classes = 10\n",
    "x_train = tf.reshape(x_train, [len(x_train), -1])\n",
    "x_test = tf.reshape(x_test, [len(x_test), -1])\n",
    "y_train = tf.one_hot(y_train, depth=nb_classes)\n",
    "y_test = tf.one_hot(y_test, depth=nb_classes)\n",
    "\n",
    "train_data = tf.data.Dataset.from_tensor_slices((x_train, y_train))\n",
    "\n",
    "training_epochs = 15\n",
    "batch_size = 100\n",
    "\n",
    "dataset = train_data.batch(batch_size)\n",
    "\n",
    "# for features, label in dataset.take(1):\n",
    "    # print(features, label)\n",
    "    \n",
    "W = tf.Variable(tf.random.normal([784, nb_classes]), name=\"weight\")\n",
    "b = tf.Variable(tf.random.normal([nb_classes]), name=\"bias\")\n",
    "\n",
    "optimizer = tf.optimizers.SGD(learning_rate=0.1)\n",
    "\n",
    "def compute_cost(X, Y):\n",
    "    X = tf.cast(X, dtype=tf.float32) / 255.0\n",
    "    hypothesis = tf.nn.softmax(tf.matmul(X, W) + b)\n",
    "    cost = tf.reduce_mean(-tf.reduce_sum(Y * tf.math.log(hypothesis), axis=1))\n",
    "    return hypothesis, cost\n",
    "\n",
    "def train_step(X, Y):\n",
    "    with tf.GradientTape() as tape:\n",
    "        hypothesis, cost = compute_cost(X, Y)\n",
    "    gradients  = tape.gradient(cost, [W, b])\n",
    "    optimizer.apply_gradients(zip(gradients, [W, b]))\n",
    "    return hypothesis, cost\n",
    "\n",
    "for epoch in range(training_epochs):\n",
    "    avg_cost = 0\n",
    "    total_batch = len(train_data) / batch_size\n",
    "\n",
    "    for batch in dataset:\n",
    "        x_batch, y_batch = batch\n",
    "        hypothesis, cost_val = train_step(x_batch, y_batch)\n",
    "        avg_cost += cost_val / total_batch\n",
    "\n",
    "    print(\"Epoch:\", \"%04d\" % (epoch + 1), \"cost\", \"{:.9f}\".format(avg_cost))\n",
    "\n",
    "hypothesis, cost_val = compute_cost(x_test, y_test)\n",
    "is_correct = tf.equal(tf.argmax(hypothesis, 1), tf.argmax(y_test, 1))\n",
    "accuracy = tf.reduce_mean(tf.cast(is_correct, tf.float32))\n",
    "print(\"Accuracy: \", accuracy)"
   ]
  },
  {
   "cell_type": "code",
   "execution_count": 63,
   "metadata": {},
   "outputs": [
    {
     "name": "stdout",
     "output_type": "stream",
     "text": [
      "Label: tf.Tensor([7], shape=(1,), dtype=int64)\n",
      "Prediction: tf.Tensor([7], shape=(1,), dtype=int64)\n"
     ]
    },
    {
     "data": {
      "text/plain": [
       "<matplotlib.image.AxesImage at 0x29bb74790>"
      ]
     },
     "execution_count": 63,
     "metadata": {},
     "output_type": "execute_result"
    },
    {
     "data": {
      "image/png": "[encoded data removed]",
      "text/plain": [
       "<Figure size 640x480 with 1 Axes>"
      ]
     },
     "metadata": {},
     "output_type": "display_data"
    }
   ],
   "source": [
    "import matplotlib.pyplot as plt\n",
    "import random\n",
    "\n",
    "r = random.randint(0, nb_classes -1)\n",
    "print(\"Label:\", tf.argmax(y_test[r:r+1], 1))\n",
    "hypothesis, _ = compute_cost(x_test[r:r+1], y_test[r:r+1])\n",
    "print(\"Prediction:\", tf.argmax(hypothesis, 1))\n",
    "\n",
    "plt.imshow(x_test[r:r+1].numpy().reshape(28, 28), cmap=\"Greys\", interpolation=\"nearest\")\n"
   ]
  }
 ],
 "metadata": {
  "kernelspec": {
   "display_name": "base",
   "language": "python",
   "name": "python3"
  },
  "language_info": {
   "codemirror_mode": {
    "name": "ipython",
    "version": 3
   },
   "file_extension": ".py",
   "mimetype": "text/x-python",
   "name": "python",
   "nbconvert_exporter": "python",
   "pygments_lexer": "ipython3",
   "version": "3.11.4"
  },
  "orig_nbformat": 4
 },
 "nbformat": 4,
 "nbformat_minor": 2
}
