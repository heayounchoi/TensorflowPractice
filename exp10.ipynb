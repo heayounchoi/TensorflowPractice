{
  "cells": [
    {
      "cell_type": "code",
      "execution_count": null,
      "metadata": {},
      "outputs": [],
      "source": [
        "# how to add layers"
      ]
    },
    {
      "cell_type": "code",
      "execution_count": null,
      "metadata": {
        "id": "8mbOJqBJcevN"
      },
      "outputs": [],
      "source": [
        "import tensorflow as tf\n",
        "import numpy as np\n",
        "\n",
        "x_data = np.array([[0,0], [0,1], [1,0], [1,1]], dtype=np.float32)\n",
        "y_data = np.array([[0], [1], [1], [0]], dtype=np.float32)\n",
        "\n",
        "W1 = tf.Variable(tf.random.normal([2, 2]), name=\"weight1\")\n",
        "b1 = tf.Variable(tf.random.normal([2]), name=\"bias1\")\n",
        "\n",
        "W2 = tf.Variable(tf.random.normal([2, 1]), name=\"weight2\")\n",
        "b2 = tf.Variable(tf.random.normal([1]), name=\"bias2\")\n",
        "\n",
        "optimizer = tf.optimizers.SGD(learning_rate=0.1)\n",
        "\n",
        "def compute_cost(X, Y):\n",
        "    layer1 = tf.sigmoid(tf.matmul(X, W1)+b1)\n",
        "    hypothesis = tf.sigmoid(tf.matmul(layer1, W2)+b2)\n",
        "    cost = -tf.reduce_mean(Y*tf.math.log(hypothesis)+(1-Y)*tf.math.log(1-hypothesis))\n",
        "    return hypothesis, cost\n",
        "\n",
        "def train_step(X, Y):\n",
        "    with tf.GradientTape() as tape:\n",
        "        hypothesis, cost = compute_cost(X, Y)\n",
        "    gradients  = tape.gradient(cost, [W1, b1, W2, b2])\n",
        "    optimizer.apply_gradients(zip(gradients, [W1, b1, W2, b2]))\n",
        "    return hypothesis, cost\n",
        "\n",
        "for step in range(10001):\n",
        "    hypothesis, cost_val = train_step(x_data, y_data)\n",
        "    prediction = tf.argmax(hypothesis, 1)\n",
        "    correct_prediction = tf.equal(prediction, tf.argmax(y_data, 1))\n",
        "    accuracy = tf.reduce_mean(tf.cast(correct_prediction, tf.float32))\n",
        "    if step % 100 == 0:\n",
        "        print(\"Step: {:5}\\tLoss: {:.3f}\\tAcc: {:.2%}\".format(step, cost_val.numpy(), accuracy))\n"
      ]
    },
    {
      "cell_type": "code",
      "execution_count": null,
      "metadata": {
        "id": "RX7O6Trh65Un"
      },
      "outputs": [],
      "source": [
        "hypothesis, _ = compute_cost(x_data, y_data)\n",
        "print(hypothesis)\n",
        "print(y_data)"
      ]
    }
  ],
  "metadata": {
    "accelerator": "GPU",
    "colab": {
      "gpuType": "T4",
      "provenance": []
    },
    "kernelspec": {
      "display_name": "Python 3",
      "name": "python3"
    },
    "language_info": {
      "name": "python"
    }
  },
  "nbformat": 4,
  "nbformat_minor": 0
}
