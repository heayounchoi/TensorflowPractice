{
 "cells": [
  {
   "cell_type": "code",
   "execution_count": null,
   "metadata": {},
   "outputs": [],
   "source": [
    "# training linear regression"
   ]
  },
  {
   "cell_type": "code",
   "execution_count": null,
   "metadata": {},
   "outputs": [],
   "source": [
    "x_train = [1, 2, 3]\n",
    "y_train = [1, 2, 3]\n",
    "\n",
    "W = tf.Variable(tf.random.normal([1]), name=\"weight\")\n",
    "b = tf.Variable(tf.random.normal([1]), name=\"bias\")\n",
    "\n",
    "optimizer = tf.optimizers.SGD(learning_rate=0.01)\n",
    "\n",
    "def compute_cost():\n",
    "    hypothesis = x_train * W + b\n",
    "    return tf.reduce_mean(tf.square(hypothesis - y_train))\n",
    "\n",
    "# records the gradients during the forward pass and applies these gradients to the optimizer\n",
    "def train_step():\n",
    "    with tf.GradientTape() as tape:\n",
    "        cost = compute_cost()\n",
    "    gradients = tape.gradient(cost, [W, b])\n",
    "    optimizer.apply_gradients(zip(gradients, [W, b]))\n",
    "    return cost\n",
    "\n",
    "for step in range(2001):\n",
    "    cost_val = train_step()\n",
    "    if step % 20 == 0:\n",
    "        print(step, cost_val.numpy(), W.numpy(), b.numpy())"
   ]
  },
  {
   "cell_type": "code",
   "execution_count": null,
   "metadata": {},
   "outputs": [],
   "source": [
    "# placeholder\n",
    "W = tf.Variable(tf.random.normal([1]), name=\"weight\")\n",
    "b = tf.Variable(tf.random.normal([1]), name=\"bias\")\n",
    "\n",
    "optimizer = tf.optimizers.SGD(learning_rate=0.01)\n",
    "\n",
    "def compute(x_train, y_train=0, train=True):\n",
    "    hypothesis = x_train * W + b\n",
    "    if train:\n",
    "        return tf.reduce_mean(tf.square(hypothesis - y_train))\n",
    "    else:\n",
    "        return hypothesis\n",
    "\n",
    "def train_step(x_train, y_train):\n",
    "    with tf.GradientTape() as tape:\n",
    "        cost = compute(x_train, y_train)\n",
    "    gradients = tape.gradient(cost, [W, b])\n",
    "    optimizer.apply_gradients(zip(gradients, [W, b]))\n",
    "    return cost\n",
    "\n",
    "for step in range(2001):\n",
    "    cost_val = train_step(x_train = [1, 2, 3], y_train = [1, 2, 3])\n",
    "    if step % 20 == 0:\n",
    "        print(step, cost_val.numpy(), W.numpy(), b.numpy())"
   ]
  },
  {
   "cell_type": "code",
   "execution_count": null,
   "metadata": {},
   "outputs": [
    {
     "name": "stdout",
     "output_type": "stream",
     "text": [
      "tf.Tensor([4.0018935 5.00299   6.0040865], shape=(3,), dtype=float32)\n"
     ]
    }
   ],
   "source": [
    "print(compute(x_train=[4, 5, 6], train=False))"
   ]
  }
 ],
 "metadata": {
  "language_info": {
   "name": "python"
  },
  "orig_nbformat": 4
 },
 "nbformat": 4,
 "nbformat_minor": 2
}
